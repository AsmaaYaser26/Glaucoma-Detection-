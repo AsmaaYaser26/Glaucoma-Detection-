{
  "nbformat": 4,
  "nbformat_minor": 0,
  "metadata": {
    "colab": {
      "provenance": []
    },
    "kernelspec": {
      "name": "python3",
      "display_name": "Python 3"
    },
    "language_info": {
      "name": "python"
    },
    "accelerator": "GPU",
    "gpuClass": "standard"
  },
  "cells": [
    {
      "cell_type": "code",
      "execution_count": null,
      "metadata": {
        "colab": {
          "base_uri": "https://localhost:8080/"
        },
        "id": "2_CceluVLZ7u",
        "outputId": "6f508c8b-35f5-49b9-9f40-a9ee01e0174c"
      },
      "outputs": [
        {
          "output_type": "stream",
          "name": "stdout",
          "text": [
            "Drive already mounted at /content/drive; to attempt to forcibly remount, call drive.mount(\"/content/drive\", force_remount=True).\n"
          ]
        }
      ],
      "source": [
        "from google.colab import drive\n",
        "drive.mount('/content/drive')"
      ]
    },
    {
      "cell_type": "code",
      "source": [
        "import os\n",
        "print(os.listdir((\"/content/drive/MyDrive/Gluacoma_data_set\")))"
      ],
      "metadata": {
        "colab": {
          "base_uri": "https://localhost:8080/"
        },
        "id": "xOwr1wddL_MJ",
        "outputId": "c00da7d5-c8fc-44e8-e2a5-b6ff316bf274"
      },
      "execution_count": null,
      "outputs": [
        {
          "output_type": "stream",
          "name": "stdout",
          "text": [
            "['train', 'test']\n"
          ]
        }
      ]
    },
    {
      "cell_type": "code",
      "source": [
        "from keras.models import Sequential\n",
        "from keras.layers import Conv2D\n",
        "from keras.layers import MaxPooling2D\n",
        "from keras.layers import Flatten\n",
        "from keras.layers import Dense\n",
        "# Initialising the CNN\n",
        "classifier = Sequential()\n",
        "# Step 1 - Convolution\n",
        "classifier.add(Conv2D(32, (3, 3), input_shape = (256,256, 3), activation = 'relu'))\n",
        "# Step 2 - Pooling\n",
        "classifier.add(MaxPooling2D(pool_size = (2, 2)))\n",
        "# Adding a second convolutional layer\n",
        "classifier.add(Conv2D(32, (3, 3), activation = 'relu'))\n",
        "classifier.add(MaxPooling2D(pool_size = (2, 2)))\n",
        "# Step 3 - Flattening\n",
        "classifier.add(Flatten())\n",
        "# Step 4 - Full connection\n",
        "classifier.add(Dense(units = 128, activation = 'relu'))\n",
        "classifier.add(Dense(units = 1, activation = 'sigmoid'))\n",
        "# Compiling the CNN\n",
        "classifier.compile(optimizer = 'adam', loss = 'binary_crossentropy', metrics = ['accuracy'])"
      ],
      "metadata": {
        "id": "izWtXKBNMH6L"
      },
      "execution_count": null,
      "outputs": []
    },
    {
      "cell_type": "code",
      "source": [
        "from keras.preprocessing.image import ImageDataGenerator\n",
        "train_datagen = ImageDataGenerator(rescale = 1./255,\n",
        "shear_range = 0.2,\n",
        "zoom_range = 0.2,\n",
        "horizontal_flip = True)\n",
        "# print(train_datagen)\n",
        "test_datagen = ImageDataGenerator(rescale = 1./255)\n",
        "training_set = train_datagen.flow_from_directory('/content/drive/MyDrive/Gluacoma_data_set/train',\n",
        "target_size = (256,256),\n",
        "batch_size = 40,\n",
        "class_mode = 'binary')\n",
        "# print(test_datagen)\n",
        "test_set = test_datagen.flow_from_directory('/content/drive/MyDrive/Gluacoma_data_set/test',\n",
        "target_size = (256,256),\n",
        "batch_size = 40,\n",
        "class_mode = 'binary')"
      ],
      "metadata": {
        "id": "g7OWAlAbNIpw",
        "colab": {
          "base_uri": "https://localhost:8080/"
        },
        "outputId": "986ade42-bcad-4289-d756-9a6c2ad0f14b"
      },
      "execution_count": null,
      "outputs": [
        {
          "output_type": "stream",
          "name": "stdout",
          "text": [
            "Found 455 images belonging to 2 classes.\n",
            "Found 64 images belonging to 2 classes.\n"
          ]
        }
      ]
    },
    {
      "cell_type": "code",
      "source": [
        "batch_size=40\n",
        "model_info=classifier.fit_generator(training_set,\n",
        "steps_per_epoch = 455/batch_size,\n",
        "epochs = 75,\n",
        "validation_data = test_set,\n",
        "validation_steps = 40/batch_size)\n",
        ""
      ],
      "metadata": {
        "id": "eqZDYhcdOEXE"
      },
      "execution_count": null,
      "outputs": []
    },
    {
      "cell_type": "code",
      "source": [
        "### Performance evaluation\n",
        "#########################\n",
        "score = classifier.evaluate_generator(test_set,40/batch_size)\n",
        "print(\" Total: \", len(test_set.filenames))\n",
        "print(\"Loss: \", score[0], \"Accuracy: \", score[1])\n",
        "#print(\"Accuracy = \",score[1])"
      ],
      "metadata": {
        "id": "iRR5_y-WcPPS",
        "colab": {
          "base_uri": "https://localhost:8080/"
        },
        "outputId": "f0a44a70-cf13-478c-cc16-84d4d7bb3551"
      },
      "execution_count": null,
      "outputs": [
        {
          "output_type": "stream",
          "name": "stderr",
          "text": [
            "<ipython-input-9-3fa260b8e9c2>:3: UserWarning: `Model.evaluate_generator` is deprecated and will be removed in a future version. Please use `Model.evaluate`, which supports generators.\n",
            "  score = classifier.evaluate_generator(test_set,40/batch_size)\n"
          ]
        },
        {
          "output_type": "stream",
          "name": "stdout",
          "text": [
            " Total:  64\n",
            "Loss:  0.024020254611968994 Accuracy:  1.0\n"
          ]
        }
      ]
    },
    {
      "cell_type": "code",
      "source": [
        "from matplotlib import lines\n",
        "from pyparsing import line\n",
        "import matplotlib.pyplot as plt\n",
        "\n",
        "acc = model_info.history['accuracy']\n",
        "val_acc = model_info.history['val_accuracy']\n",
        "loss = model_info.history['loss']\n",
        "val_loss = model_info.history['val_loss']\n",
        "\n",
        "epochs = range(1, len(acc) + 1)\n",
        "\n",
        "plt.plot(epochs, acc, 'bo', label='Training acc')\n",
        "plt.plot(epochs, val_acc, 'b', label='Validation acc')\n",
        "plt.title('Training and validation accuracy')\n",
        "plt.legend()\n",
        "\n",
        "plt.figure()\n",
        "\n",
        "plt.plot(epochs, loss, 'bo', label='Training loss')\n",
        "plt.plot(epochs, val_loss, 'b', label='Validation loss')\n",
        "plt.title('Training and validation loss')\n",
        "plt.legend()\n",
        "\n",
        "plt.show()"
      ],
      "metadata": {
        "id": "HKke4EqZQwIT",
        "colab": {
          "base_uri": "https://localhost:8080/",
          "height": 545
        },
        "outputId": "8c3ee958-6a9e-4160-8a5a-43fdae100746"
      },
      "execution_count": null,
      "outputs": [
        {
          "output_type": "display_data",
          "data": {
            "text/plain": [
              "<Figure size 432x288 with 1 Axes>"
            ],
            "image/png": "[encoded data removed]"
          },
          "metadata": {
            "needs_background": "light"
          }
        },
        {
          "output_type": "display_data",
          "data": {
            "text/plain": [
              "<Figure size 432x288 with 1 Axes>"
            ],
            "image/png": "[encoded data removed]"
          },
          "metadata": {
            "needs_background": "light"
          }
        }
      ]
    },
    {
      "cell_type": "code",
      "source": [
        "classifier.save('classifier.h5')"
      ],
      "metadata": {
        "id": "SthZBRM3NwyN"
      },
      "execution_count": null,
      "outputs": []
    },
    {
      "cell_type": "code",
      "source": [
        "import os\n",
        "from keras.models import load_model\n",
        "from PIL import Image\n",
        "from keras.preprocessing import image\n",
        "import numpy as np\n",
        "import cv2"
      ],
      "metadata": {
        "id": "hQOSLHRNN7Q8"
      },
      "execution_count": null,
      "outputs": []
    },
    {
      "cell_type": "code",
      "source": [
        "target_size = (256,256)\n",
        "model=load_model('classifier.h5')\n",
        "print(\"model loaded\")"
      ],
      "metadata": {
        "id": "1oGF0bPvOIuC"
      },
      "execution_count": null,
      "outputs": []
    },
    {
      "cell_type": "code",
      "source": [
        "import numpy as np\n",
        "from tensorflow.keras.preprocessing import image\n",
        "test_image = image.load_img('/content/drive/MyDrive/Gluacoma_data_set/test/test_class 0/Im007.jpg', target_size = (256,256))\n",
        "test_image = image.img_to_array(test_image)\n",
        "test_image = np.expand_dims(test_image, axis = 0)\n",
        "result = model.predict(test_image)\n",
        "training_set.class_indices\n",
        "if result[0][0] == 1:\n",
        " print(\"Glaucoma\")\n",
        "else:\n",
        " print(\"Not Glaucoma\")"
      ],
      "metadata": {
        "id": "W8GzH9eOOR5k"
      },
      "execution_count": null,
      "outputs": []
    },
    {
      "cell_type": "code",
      "source": [],
      "metadata": {
        "id": "_cGPK5mPPsK0"
      },
      "execution_count": null,
      "outputs": []
    }
  ]
}